{
 "cells": [
  {
   "cell_type": "markdown",
   "metadata": {},
   "source": [
    "# Author: Tanakit Phamornratnakun"
   ]
  },
  {
   "cell_type": "code",
   "execution_count": 1,
   "id": "1ae4434a",
   "metadata": {},
   "outputs": [],
   "source": [
    "import pandas as pd\n",
    "import numpy as np\n",
    "%matplotlib inline\n",
    "import matplotlib.pyplot as plt\n",
    "import seaborn as sns\n",
    "sns.set()"
   ]
  },
  {
   "cell_type": "markdown",
   "id": "eba55f9a",
   "metadata": {},
   "source": [
    "## **(Tutorial) Binarizing data**\n",
    "\n",
    "Following is a sample of binarizing listen counts in Million Song Dataset\n",
    "### The Echo Nest Taste Profile Subset \n",
    "http://labrosa.ee.columbia.edu/millionsong/sites/default/files/challenge/train_triplets.txt.zip"
   ]
  },
  {
   "cell_type": "code",
   "execution_count": 2,
   "id": "44eaf33e",
   "metadata": {},
   "outputs": [
    {
     "data": {
      "text/html": [
       "<div>\n",
       "<style scoped>\n",
       "    .dataframe tbody tr th:only-of-type {\n",
       "        vertical-align: middle;\n",
       "    }\n",
       "\n",
       "    .dataframe tbody tr th {\n",
       "        vertical-align: top;\n",
       "    }\n",
       "\n",
       "    .dataframe thead th {\n",
       "        text-align: right;\n",
       "    }\n",
       "</style>\n",
       "<table border=\"1\" class=\"dataframe\">\n",
       "  <thead>\n",
       "    <tr style=\"text-align: right;\">\n",
       "      <th></th>\n",
       "      <th>0</th>\n",
       "      <th>1</th>\n",
       "      <th>2</th>\n",
       "    </tr>\n",
       "  </thead>\n",
       "  <tbody>\n",
       "    <tr>\n",
       "      <th>0</th>\n",
       "      <td>b80344d063b5ccb3212f76538f3d9e43d87dca9e</td>\n",
       "      <td>SOAKIMP12A8C130995</td>\n",
       "      <td>1</td>\n",
       "    </tr>\n",
       "    <tr>\n",
       "      <th>1</th>\n",
       "      <td>b80344d063b5ccb3212f76538f3d9e43d87dca9e</td>\n",
       "      <td>SOAPDEY12A81C210A9</td>\n",
       "      <td>1</td>\n",
       "    </tr>\n",
       "    <tr>\n",
       "      <th>2</th>\n",
       "      <td>b80344d063b5ccb3212f76538f3d9e43d87dca9e</td>\n",
       "      <td>SOBBMDR12A8C13253B</td>\n",
       "      <td>2</td>\n",
       "    </tr>\n",
       "    <tr>\n",
       "      <th>3</th>\n",
       "      <td>b80344d063b5ccb3212f76538f3d9e43d87dca9e</td>\n",
       "      <td>SOBFNSP12AF72A0E22</td>\n",
       "      <td>1</td>\n",
       "    </tr>\n",
       "    <tr>\n",
       "      <th>4</th>\n",
       "      <td>b80344d063b5ccb3212f76538f3d9e43d87dca9e</td>\n",
       "      <td>SOBFOVM12A58A7D494</td>\n",
       "      <td>1</td>\n",
       "    </tr>\n",
       "  </tbody>\n",
       "</table>\n",
       "</div>"
      ],
      "text/plain": [
       "                                          0                   1  2\n",
       "0  b80344d063b5ccb3212f76538f3d9e43d87dca9e  SOAKIMP12A8C130995  1\n",
       "1  b80344d063b5ccb3212f76538f3d9e43d87dca9e  SOAPDEY12A81C210A9  1\n",
       "2  b80344d063b5ccb3212f76538f3d9e43d87dca9e  SOBBMDR12A8C13253B  2\n",
       "3  b80344d063b5ccb3212f76538f3d9e43d87dca9e  SOBFNSP12AF72A0E22  1\n",
       "4  b80344d063b5ccb3212f76538f3d9e43d87dca9e  SOBFOVM12A58A7D494  1"
      ]
     },
     "execution_count": 2,
     "metadata": {},
     "output_type": "execute_result"
    }
   ],
   "source": [
    "listen_count = pd.read_csv('train_triplets.txt', header=None, delimiter='\\t')\n",
    "listen_count.head()  # user - song - count"
   ]
  },
  {
   "cell_type": "code",
   "execution_count": 3,
   "id": "bbfdf838",
   "metadata": {},
   "outputs": [
    {
     "data": {
      "text/plain": [
       "9667"
      ]
     },
     "execution_count": 3,
     "metadata": {},
     "output_type": "execute_result"
    }
   ],
   "source": [
    "np.max(listen_count[2])"
   ]
  },
  {
   "cell_type": "markdown",
   "id": "c67bc26b",
   "metadata": {},
   "source": [
    "Binarizing and visualizing listen counts"
   ]
  },
  {
   "cell_type": "code",
   "execution_count": 4,
   "id": "d9e2b2ce",
   "metadata": {},
   "outputs": [
    {
     "data": {
      "image/png": "[encoded data removed]",
      "text/plain": [
       "<Figure size 720x504 with 1 Axes>"
      ]
     },
     "metadata": {},
     "output_type": "display_data"
    }
   ],
   "source": [
    "sns.set_style('whitegrid')\n",
    "plt.figure(figsize=(10, 7))\n",
    "plt.hist(listen_count[2], bins = 100, edgecolor='black')\n",
    "plt.yscale('log', nonpositive='clip')\n",
    "plt.tick_params(axis='both', which='major', labelsize=16)\n",
    "plt.xlim([0,10000])\n",
    "_ = plt.xlabel('Listen Count', fontsize=16)\n",
    "_ = plt.ylabel('Occurrence', fontsize=16)"
   ]
  },
  {
   "cell_type": "markdown",
   "id": "c6ae847c",
   "metadata": {},
   "source": [
    "## **Task 1.1 Read data from Athletes.xlsx file and keep it in a proper type for the following operations**\n",
    "\n",
    "### The athletes information of 2021 Olympics in Tokyo\n",
    "https://www.kaggle.com/arjunprasadsarkhel/2021-olympics-in-tokyo/download"
   ]
  },
  {
   "cell_type": "code",
   "execution_count": 5,
   "id": "5fac9616",
   "metadata": {},
   "outputs": [
    {
     "data": {
      "text/html": [
       "<div>\n",
       "<style scoped>\n",
       "    .dataframe tbody tr th:only-of-type {\n",
       "        vertical-align: middle;\n",
       "    }\n",
       "\n",
       "    .dataframe tbody tr th {\n",
       "        vertical-align: top;\n",
       "    }\n",
       "\n",
       "    .dataframe thead th {\n",
       "        text-align: right;\n",
       "    }\n",
       "</style>\n",
       "<table border=\"1\" class=\"dataframe\">\n",
       "  <thead>\n",
       "    <tr style=\"text-align: right;\">\n",
       "      <th></th>\n",
       "      <th>Name</th>\n",
       "      <th>NOC</th>\n",
       "      <th>Discipline</th>\n",
       "    </tr>\n",
       "  </thead>\n",
       "  <tbody>\n",
       "    <tr>\n",
       "      <th>0</th>\n",
       "      <td>AALERUD Katrine</td>\n",
       "      <td>Norway</td>\n",
       "      <td>Cycling Road</td>\n",
       "    </tr>\n",
       "    <tr>\n",
       "      <th>1</th>\n",
       "      <td>ABAD Nestor</td>\n",
       "      <td>Spain</td>\n",
       "      <td>Artistic Gymnastics</td>\n",
       "    </tr>\n",
       "    <tr>\n",
       "      <th>2</th>\n",
       "      <td>ABAGNALE Giovanni</td>\n",
       "      <td>Italy</td>\n",
       "      <td>Rowing</td>\n",
       "    </tr>\n",
       "    <tr>\n",
       "      <th>3</th>\n",
       "      <td>ABALDE Alberto</td>\n",
       "      <td>Spain</td>\n",
       "      <td>Basketball</td>\n",
       "    </tr>\n",
       "    <tr>\n",
       "      <th>4</th>\n",
       "      <td>ABALDE Tamara</td>\n",
       "      <td>Spain</td>\n",
       "      <td>Basketball</td>\n",
       "    </tr>\n",
       "  </tbody>\n",
       "</table>\n",
       "</div>"
      ],
      "text/plain": [
       "                Name     NOC           Discipline\n",
       "0    AALERUD Katrine  Norway         Cycling Road\n",
       "1        ABAD Nestor   Spain  Artistic Gymnastics\n",
       "2  ABAGNALE Giovanni   Italy               Rowing\n",
       "3     ABALDE Alberto   Spain           Basketball\n",
       "4      ABALDE Tamara   Spain           Basketball"
      ]
     },
     "execution_count": 5,
     "metadata": {},
     "output_type": "execute_result"
    }
   ],
   "source": [
    "# write your code here\n",
    "athletes = pd.read_excel('./input/Athletes.xlsx', header=0)\n",
    "athletes.head()"
   ]
  },
  {
   "cell_type": "markdown",
   "id": "60cea2a3",
   "metadata": {},
   "source": [
    "## **Task 1.2 Extracting the data in column 'NOC' and encoding them, then binarizing and visualizing them (number of athletes on x-axis, number of countries on y-axis)**"
   ]
  },
  {
   "cell_type": "code",
   "execution_count": 6,
   "id": "c8bc96c4",
   "metadata": {},
   "outputs": [],
   "source": [
    "# write you code here\n",
    "country_list = athletes['NOC'].unique()"
   ]
  },
  {
   "cell_type": "code",
   "execution_count": 7,
   "metadata": {},
   "outputs": [],
   "source": [
    "countryDict = {}\n",
    "for index,value in enumerate(country_list):\n",
    "    countryDict[value] = index\n",
    "# print(countryDict)"
   ]
  },
  {
   "cell_type": "code",
   "execution_count": 8,
   "metadata": {},
   "outputs": [],
   "source": [
    "athletes2 = athletes.replace({'NOC':countryDict})"
   ]
  },
  {
   "cell_type": "code",
   "execution_count": 9,
   "metadata": {},
   "outputs": [
    {
     "name": "stdout",
     "output_type": "stream",
     "text": [
      "NOC\n",
      "0       92\n",
      "1      324\n",
      "2      356\n",
      "3      377\n",
      "4       56\n",
      "      ... \n",
      "201      2\n",
      "202      3\n",
      "203      2\n",
      "204      2\n",
      "205      3\n",
      "Length: 206, dtype: int64\n"
     ]
    }
   ],
   "source": [
    "country_count = athletes2.groupby('NOC').size()\n",
    "print(country_count)"
   ]
  },
  {
   "cell_type": "code",
   "execution_count": 10,
   "metadata": {},
   "outputs": [
    {
     "data": {
      "text/plain": [
       "0         92\n",
       "1        324\n",
       "2        356\n",
       "3        324\n",
       "4        324\n",
       "        ... \n",
       "11080    400\n",
       "11081    195\n",
       "11082    318\n",
       "11083    318\n",
       "11084    195\n",
       "Name: NOC, Length: 11085, dtype: int64"
      ]
     },
     "execution_count": 10,
     "metadata": {},
     "output_type": "execute_result"
    }
   ],
   "source": [
    "athletes2['NOC'].map(country_count)"
   ]
  },
  {
   "cell_type": "code",
   "execution_count": 11,
   "metadata": {},
   "outputs": [
    {
     "data": {
      "text/html": [
       "<div>\n",
       "<style scoped>\n",
       "    .dataframe tbody tr th:only-of-type {\n",
       "        vertical-align: middle;\n",
       "    }\n",
       "\n",
       "    .dataframe tbody tr th {\n",
       "        vertical-align: top;\n",
       "    }\n",
       "\n",
       "    .dataframe thead th {\n",
       "        text-align: right;\n",
       "    }\n",
       "</style>\n",
       "<table border=\"1\" class=\"dataframe\">\n",
       "  <thead>\n",
       "    <tr style=\"text-align: right;\">\n",
       "      <th></th>\n",
       "      <th>Name</th>\n",
       "      <th>NOC</th>\n",
       "      <th>Discipline</th>\n",
       "      <th>count</th>\n",
       "    </tr>\n",
       "  </thead>\n",
       "  <tbody>\n",
       "    <tr>\n",
       "      <th>0</th>\n",
       "      <td>AALERUD Katrine</td>\n",
       "      <td>0</td>\n",
       "      <td>Cycling Road</td>\n",
       "      <td>92</td>\n",
       "    </tr>\n",
       "    <tr>\n",
       "      <th>1</th>\n",
       "      <td>ABAD Nestor</td>\n",
       "      <td>1</td>\n",
       "      <td>Artistic Gymnastics</td>\n",
       "      <td>324</td>\n",
       "    </tr>\n",
       "    <tr>\n",
       "      <th>2</th>\n",
       "      <td>ABAGNALE Giovanni</td>\n",
       "      <td>2</td>\n",
       "      <td>Rowing</td>\n",
       "      <td>356</td>\n",
       "    </tr>\n",
       "    <tr>\n",
       "      <th>3</th>\n",
       "      <td>ABALDE Alberto</td>\n",
       "      <td>1</td>\n",
       "      <td>Basketball</td>\n",
       "      <td>324</td>\n",
       "    </tr>\n",
       "    <tr>\n",
       "      <th>4</th>\n",
       "      <td>ABALDE Tamara</td>\n",
       "      <td>1</td>\n",
       "      <td>Basketball</td>\n",
       "      <td>324</td>\n",
       "    </tr>\n",
       "  </tbody>\n",
       "</table>\n",
       "</div>"
      ],
      "text/plain": [
       "                Name  NOC           Discipline  count\n",
       "0    AALERUD Katrine    0         Cycling Road     92\n",
       "1        ABAD Nestor    1  Artistic Gymnastics    324\n",
       "2  ABAGNALE Giovanni    2               Rowing    356\n",
       "3     ABALDE Alberto    1           Basketball    324\n",
       "4      ABALDE Tamara    1           Basketball    324"
      ]
     },
     "execution_count": 11,
     "metadata": {},
     "output_type": "execute_result"
    }
   ],
   "source": [
    "athletes2['count'] = athletes2['NOC'].map(country_count)\n",
    "athletes2.head()"
   ]
  },
  {
   "cell_type": "code",
   "execution_count": 12,
   "metadata": {},
   "outputs": [
    {
     "data": {
      "image/png": "[encoded data removed]",
      "text/plain": [
       "<Figure size 720x504 with 1 Axes>"
      ]
     },
     "metadata": {},
     "output_type": "display_data"
    }
   ],
   "source": [
    "sns.set_style('whitegrid')\n",
    "plt.figure(figsize=(10, 7))\n",
    "plt.hist(athletes2['count'], bins = 100, edgecolor='black')\n",
    "# plt.yscale('log', nonpositive='clip')\n",
    "plt.tick_params(axis='both', which='major', labelsize=16)\n",
    "plt.xlim([0,650])\n",
    "_ = plt.xlabel('Number of Country', fontsize=16)\n",
    "_ = plt.ylabel('Athletes Count', fontsize=16)"
   ]
  },
  {
   "cell_type": "markdown",
   "id": "d1d7f32f",
   "metadata": {},
   "source": [
    "## **(Tutorial) Quantizing data**"
   ]
  },
  {
   "cell_type": "code",
   "execution_count": 13,
   "id": "c2c1feed",
   "metadata": {},
   "outputs": [
    {
     "data": {
      "text/plain": [
       "array([84, 97, 94, 35, 79, 83, 34, 76, 58, 37, 67, 57,  8, 52, 71, 75, 61,\n",
       "       99, 58, 77])"
      ]
     },
     "execution_count": 13,
     "metadata": {},
     "output_type": "execute_result"
    }
   ],
   "source": [
    "# create 20 random numbers in the range (0,100)\n",
    "small_counts = np.random.randint(0, 100, 20) \n",
    "small_counts"
   ]
  },
  {
   "cell_type": "code",
   "execution_count": 14,
   "id": "b7120034",
   "metadata": {},
   "outputs": [
    {
     "data": {
      "text/plain": [
       "array([8, 9, 9, 3, 7, 8, 3, 7, 5, 3, 6, 5, 0, 5, 7, 7, 6, 9, 5, 7])"
      ]
     },
     "execution_count": 14,
     "metadata": {},
     "output_type": "execute_result"
    }
   ],
   "source": [
    "# divided by 10 to project digits into the range (0,10) \n",
    "np.floor_divide(small_counts, 10)"
   ]
  },
  {
   "cell_type": "code",
   "execution_count": 15,
   "id": "76e409b1",
   "metadata": {},
   "outputs": [
    {
     "data": {
      "text/plain": [
       "array([2., 3., 4., 1., 0., 2., 2., 3., 3., 4., 4., 1., 1., 3., 2., 2., 4.])"
      ]
     },
     "execution_count": 15,
     "metadata": {},
     "output_type": "execute_result"
    }
   ],
   "source": [
    "large_counts = [296, 8286, 64011, 80, 3, 725, 867, 2215, 7689, 11495, 91897, 44, 28, 7971, 926, 122, 22222]\n",
    "np.floor(np.log10(large_counts))"
   ]
  },
  {
   "cell_type": "markdown",
   "id": "232eb9aa",
   "metadata": {},
   "source": [
    "### Example: computing deciles of Yelp business review counts\n",
    "Yelp_academic_dataset_business\n",
    "https://github.com/melqkiades/yelp/blob/master/notebooks/yelp_academic_dataset_business.json"
   ]
  },
  {
   "cell_type": "code",
   "execution_count": 16,
   "id": "e284bf82",
   "metadata": {},
   "outputs": [],
   "source": [
    "import json"
   ]
  },
  {
   "cell_type": "code",
   "execution_count": 17,
   "id": "26c09a9d",
   "metadata": {},
   "outputs": [],
   "source": [
    "def load_json_df(filename, num_bytes = -1):\n",
    "    '''Load the first `num_bytes` of the filename as a json blob, convert each line into a row in a Pandas data frame.'''\n",
    "    fs = open(filename, encoding='utf-8')\n",
    "    df = pd.DataFrame([json.loads(x) for x in fs.readlines(num_bytes)])\n",
    "    fs.close()\n",
    "    return df"
   ]
  },
  {
   "cell_type": "code",
   "execution_count": 18,
   "id": "cc8ec237",
   "metadata": {},
   "outputs": [
    {
     "data": {
      "text/plain": [
       "(15585, 15)"
      ]
     },
     "execution_count": 18,
     "metadata": {},
     "output_type": "execute_result"
    }
   ],
   "source": [
    "biz_df = load_json_df('yelp_academic_dataset_business.json')\n",
    "biz_df.shape"
   ]
  },
  {
   "cell_type": "code",
   "execution_count": 19,
   "id": "3bef9a9e",
   "metadata": {},
   "outputs": [
    {
     "data": {
      "text/html": [
       "<div>\n",
       "<style scoped>\n",
       "    .dataframe tbody tr th:only-of-type {\n",
       "        vertical-align: middle;\n",
       "    }\n",
       "\n",
       "    .dataframe tbody tr th {\n",
       "        vertical-align: top;\n",
       "    }\n",
       "\n",
       "    .dataframe thead th {\n",
       "        text-align: right;\n",
       "    }\n",
       "</style>\n",
       "<table border=\"1\" class=\"dataframe\">\n",
       "  <thead>\n",
       "    <tr style=\"text-align: right;\">\n",
       "      <th></th>\n",
       "      <th>business_id</th>\n",
       "      <th>full_address</th>\n",
       "      <th>hours</th>\n",
       "      <th>open</th>\n",
       "      <th>categories</th>\n",
       "      <th>city</th>\n",
       "      <th>review_count</th>\n",
       "      <th>name</th>\n",
       "      <th>neighborhoods</th>\n",
       "      <th>longitude</th>\n",
       "      <th>state</th>\n",
       "      <th>stars</th>\n",
       "      <th>latitude</th>\n",
       "      <th>attributes</th>\n",
       "      <th>type</th>\n",
       "    </tr>\n",
       "  </thead>\n",
       "  <tbody>\n",
       "    <tr>\n",
       "      <th>0</th>\n",
       "      <td>O_X3PGhk3Y5JWVi866qlJg</td>\n",
       "      <td>1501 W Bell Rd\\nPhoenix, AZ 85023</td>\n",
       "      <td>{'Monday': {'close': '18:00', 'open': '11:00'}...</td>\n",
       "      <td>True</td>\n",
       "      <td>[Active Life, Arts &amp; Entertainment, Stadiums &amp;...</td>\n",
       "      <td>Phoenix</td>\n",
       "      <td>29</td>\n",
       "      <td>Turf Paradise Race Course</td>\n",
       "      <td>[]</td>\n",
       "      <td>-112.092329</td>\n",
       "      <td>AZ</td>\n",
       "      <td>4.0</td>\n",
       "      <td>33.638573</td>\n",
       "      <td>{'Take-out': False, 'Wi-Fi': 'free', 'Good For...</td>\n",
       "      <td>business</td>\n",
       "    </tr>\n",
       "    <tr>\n",
       "      <th>1</th>\n",
       "      <td>QbrM7wqtmoNncqjc6GtFaQ</td>\n",
       "      <td>18501 N 83rd Avenue\\nGlendale, AZ 85308</td>\n",
       "      <td>{}</td>\n",
       "      <td>True</td>\n",
       "      <td>[Tires, Automotive, Fashion, Shopping, Departm...</td>\n",
       "      <td>Glendale</td>\n",
       "      <td>3</td>\n",
       "      <td>Sam's Club Members Only</td>\n",
       "      <td>[]</td>\n",
       "      <td>-112.234755</td>\n",
       "      <td>AZ</td>\n",
       "      <td>3.5</td>\n",
       "      <td>33.648545</td>\n",
       "      <td>{'Parking': {'garage': False, 'street': False,...</td>\n",
       "      <td>business</td>\n",
       "    </tr>\n",
       "    <tr>\n",
       "      <th>2</th>\n",
       "      <td>7lbvsGKzhjuX3oJtaXJvOg</td>\n",
       "      <td>5000 S Arizona Mills Cir\\nSte 590\\nTempe, AZ 8...</td>\n",
       "      <td>{'Monday': {'close': '21:00', 'open': '10:00'}...</td>\n",
       "      <td>True</td>\n",
       "      <td>[Women's Clothing, Men's Clothing, Fashion, Sh...</td>\n",
       "      <td>Tempe</td>\n",
       "      <td>7</td>\n",
       "      <td>Forever 21</td>\n",
       "      <td>[]</td>\n",
       "      <td>-111.964485</td>\n",
       "      <td>AZ</td>\n",
       "      <td>3.5</td>\n",
       "      <td>33.383123</td>\n",
       "      <td>{'Parking': {'garage': False, 'street': False,...</td>\n",
       "      <td>business</td>\n",
       "    </tr>\n",
       "    <tr>\n",
       "      <th>3</th>\n",
       "      <td>gjxoKVsRJwEoa8zd9XxlAw</td>\n",
       "      <td>912 W Sycamore Pl\\nChandler, AZ 85225</td>\n",
       "      <td>{'Monday': {'close': '19:00', 'open': '06:00'}...</td>\n",
       "      <td>True</td>\n",
       "      <td>[Pet Services, Pet Boarding/Pet Sitting, Pets]</td>\n",
       "      <td>Chandler</td>\n",
       "      <td>4</td>\n",
       "      <td>Loving Hands Pet Care</td>\n",
       "      <td>[]</td>\n",
       "      <td>-111.857818</td>\n",
       "      <td>AZ</td>\n",
       "      <td>5.0</td>\n",
       "      <td>33.356472</td>\n",
       "      <td>{}</td>\n",
       "      <td>business</td>\n",
       "    </tr>\n",
       "    <tr>\n",
       "      <th>4</th>\n",
       "      <td>V28yjMqyZnbCtabroJN_aA</td>\n",
       "      <td>1745 W Glendale Ave\\nPhoenix, AZ 85021</td>\n",
       "      <td>{}</td>\n",
       "      <td>True</td>\n",
       "      <td>[Veterinarians, Pets]</td>\n",
       "      <td>Phoenix</td>\n",
       "      <td>3</td>\n",
       "      <td>Amec Mid-City Animal Hospital</td>\n",
       "      <td>[]</td>\n",
       "      <td>-112.097232</td>\n",
       "      <td>AZ</td>\n",
       "      <td>5.0</td>\n",
       "      <td>33.538493</td>\n",
       "      <td>{}</td>\n",
       "      <td>business</td>\n",
       "    </tr>\n",
       "  </tbody>\n",
       "</table>\n",
       "</div>"
      ],
      "text/plain": [
       "              business_id                                       full_address  \\\n",
       "0  O_X3PGhk3Y5JWVi866qlJg                  1501 W Bell Rd\\nPhoenix, AZ 85023   \n",
       "1  QbrM7wqtmoNncqjc6GtFaQ            18501 N 83rd Avenue\\nGlendale, AZ 85308   \n",
       "2  7lbvsGKzhjuX3oJtaXJvOg  5000 S Arizona Mills Cir\\nSte 590\\nTempe, AZ 8...   \n",
       "3  gjxoKVsRJwEoa8zd9XxlAw              912 W Sycamore Pl\\nChandler, AZ 85225   \n",
       "4  V28yjMqyZnbCtabroJN_aA             1745 W Glendale Ave\\nPhoenix, AZ 85021   \n",
       "\n",
       "                                               hours  open  \\\n",
       "0  {'Monday': {'close': '18:00', 'open': '11:00'}...  True   \n",
       "1                                                 {}  True   \n",
       "2  {'Monday': {'close': '21:00', 'open': '10:00'}...  True   \n",
       "3  {'Monday': {'close': '19:00', 'open': '06:00'}...  True   \n",
       "4                                                 {}  True   \n",
       "\n",
       "                                          categories      city  review_count  \\\n",
       "0  [Active Life, Arts & Entertainment, Stadiums &...   Phoenix            29   \n",
       "1  [Tires, Automotive, Fashion, Shopping, Departm...  Glendale             3   \n",
       "2  [Women's Clothing, Men's Clothing, Fashion, Sh...     Tempe             7   \n",
       "3     [Pet Services, Pet Boarding/Pet Sitting, Pets]  Chandler             4   \n",
       "4                              [Veterinarians, Pets]   Phoenix             3   \n",
       "\n",
       "                            name neighborhoods   longitude state  stars  \\\n",
       "0      Turf Paradise Race Course            [] -112.092329    AZ    4.0   \n",
       "1        Sam's Club Members Only            [] -112.234755    AZ    3.5   \n",
       "2                     Forever 21            [] -111.964485    AZ    3.5   \n",
       "3          Loving Hands Pet Care            [] -111.857818    AZ    5.0   \n",
       "4  Amec Mid-City Animal Hospital            [] -112.097232    AZ    5.0   \n",
       "\n",
       "    latitude                                         attributes      type  \n",
       "0  33.638573  {'Take-out': False, 'Wi-Fi': 'free', 'Good For...  business  \n",
       "1  33.648545  {'Parking': {'garage': False, 'street': False,...  business  \n",
       "2  33.383123  {'Parking': {'garage': False, 'street': False,...  business  \n",
       "3  33.356472                                                 {}  business  \n",
       "4  33.538493                                                 {}  business  "
      ]
     },
     "execution_count": 19,
     "metadata": {},
     "output_type": "execute_result"
    }
   ],
   "source": [
    "biz_df.head()"
   ]
  },
  {
   "cell_type": "code",
   "execution_count": 20,
   "id": "946187b6",
   "metadata": {},
   "outputs": [
    {
     "data": {
      "text/plain": [
       "0.1     3.0\n",
       "0.2     3.0\n",
       "0.3     4.0\n",
       "0.4     5.0\n",
       "0.5     6.0\n",
       "0.6     8.0\n",
       "0.7    13.0\n",
       "0.8    24.0\n",
       "0.9    56.0\n",
       "Name: review_count, dtype: float64"
      ]
     },
     "execution_count": 20,
     "metadata": {},
     "output_type": "execute_result"
    }
   ],
   "source": [
    "deciles = biz_df['review_count'].quantile([.1, .2, .3, .4, .5, .6, .7, .8, .9]) \n",
    "deciles "
   ]
  },
  {
   "cell_type": "code",
   "execution_count": 21,
   "id": "8e47a9e3",
   "metadata": {},
   "outputs": [
    {
     "data": {
      "image/png": "[encoded data removed]",
      "text/plain": [
       "<Figure size 720x504 with 1 Axes>"
      ]
     },
     "metadata": {},
     "output_type": "display_data"
    }
   ],
   "source": [
    "sns.set_style('whitegrid')\n",
    "fig, ax = plt.subplots(figsize=(10, 7))\n",
    "biz_df['review_count'].hist(ax=ax, bins=100, edgecolor='black') \n",
    "for pos in deciles:\n",
    "    handle = plt.axvline(pos, color='r')\n",
    "ax.legend([handle], ['deciles'], fontsize=16) \n",
    "ax.set_xscale('log', nonpositive='clip')\n",
    "ax.set_yscale('log', nonpositive='clip')\n",
    "ax.tick_params(labelsize=16)\n",
    "_ = ax.set_xlabel('Review Count', fontsize=16) \n",
    "_ = ax.set_ylabel('Occurrence', fontsize=16)"
   ]
  },
  {
   "cell_type": "markdown",
   "id": "67f8d0d5",
   "metadata": {},
   "source": [
    "## Task 2. Computing the quantiles of the number of athletes from each country and visualizing the histogram (data was used in task 1). Applying log transform on the number of athletes and visualizing the histogram again."
   ]
  },
  {
   "cell_type": "code",
   "execution_count": 22,
   "id": "0594fb11",
   "metadata": {},
   "outputs": [
    {
     "data": {
      "text/plain": [
       "0.1     32.0\n",
       "0.2     61.0\n",
       "0.3     99.0\n",
       "0.4    133.0\n",
       "0.5    202.0\n",
       "0.6    318.0\n",
       "0.7    366.0\n",
       "0.8    400.0\n",
       "0.9    586.0\n",
       "Name: count, dtype: float64"
      ]
     },
     "execution_count": 22,
     "metadata": {},
     "output_type": "execute_result"
    }
   ],
   "source": [
    "# write the code here\n",
    "deciles = athletes2['count'].quantile([.1, .2, .3, .4, .5, .6, .7, .8, .9]) \n",
    "deciles "
   ]
  },
  {
   "cell_type": "code",
   "execution_count": 23,
   "metadata": {},
   "outputs": [
    {
     "data": {
      "image/png": "[encoded data removed]",
      "text/plain": [
       "<Figure size 720x504 with 1 Axes>"
      ]
     },
     "metadata": {},
     "output_type": "display_data"
    }
   ],
   "source": [
    "# not applying log transform\n",
    "sns.set_style('whitegrid')\n",
    "fig, ax = plt.subplots(figsize=(10, 7))\n",
    "athletes2['count'].hist(ax=ax, bins=100, edgecolor='black') \n",
    "for pos in deciles:\n",
    "    handle = plt.axvline(pos, color='r')\n",
    "ax.legend([handle], ['deciles'], fontsize=16) \n",
    "# ax.set_xscale('log', nonpositive='clip')\n",
    "# ax.set_yscale('log', nonpositive='clip')\n",
    "ax.tick_params(labelsize=16)\n",
    "_ = ax.set_xlabel('Review Count', fontsize=16) \n",
    "_ = ax.set_ylabel('Occurrence', fontsize=16)"
   ]
  },
  {
   "cell_type": "code",
   "execution_count": 24,
   "metadata": {},
   "outputs": [
    {
     "data": {
      "image/png": "[encoded data removed]",
      "text/plain": [
       "<Figure size 720x504 with 1 Axes>"
      ]
     },
     "metadata": {},
     "output_type": "display_data"
    }
   ],
   "source": [
    "# applying log transform on y-axis\n",
    "sns.set_style('whitegrid')\n",
    "fig, ax = plt.subplots(figsize=(10, 7))\n",
    "athletes2['count'].hist(ax=ax, bins=100, edgecolor='black') \n",
    "for pos in deciles:\n",
    "    handle = plt.axvline(pos, color='r')\n",
    "ax.legend([handle], ['deciles'], fontsize=16) \n",
    "# ax.set_xscale('log', nonpositive='clip')\n",
    "ax.set_yscale('log', nonpositive='clip')\n",
    "ax.tick_params(labelsize=16)\n",
    "_ = ax.set_xlabel('Review Count', fontsize=16) \n",
    "_ = ax.set_ylabel('Occurrence', fontsize=16)"
   ]
  },
  {
   "cell_type": "code",
   "execution_count": 25,
   "metadata": {},
   "outputs": [
    {
     "data": {
      "image/png": "[encoded data removed]",
      "text/plain": [
       "<Figure size 720x504 with 1 Axes>"
      ]
     },
     "metadata": {},
     "output_type": "display_data"
    }
   ],
   "source": [
    "# applying log transform on x-axis\n",
    "sns.set_style('whitegrid')\n",
    "fig, ax = plt.subplots(figsize=(10, 7))\n",
    "athletes2['count'].hist(ax=ax, bins=100, edgecolor='black') \n",
    "for pos in deciles:\n",
    "    handle = plt.axvline(pos, color='r')\n",
    "ax.legend([handle], ['deciles'], fontsize=16) \n",
    "ax.set_xscale('log', nonpositive='clip')\n",
    "# ax.set_yscale('log', nonpositive='clip')\n",
    "ax.tick_params(labelsize=16)\n",
    "_ = ax.set_xlabel('Review Count', fontsize=16) \n",
    "_ = ax.set_ylabel('Occurrence', fontsize=16)"
   ]
  },
  {
   "cell_type": "code",
   "execution_count": 26,
   "metadata": {},
   "outputs": [
    {
     "data": {
      "image/png": "[encoded data removed]",
      "text/plain": [
       "<Figure size 720x504 with 1 Axes>"
      ]
     },
     "metadata": {},
     "output_type": "display_data"
    }
   ],
   "source": [
    "# applying log transform on both axis\n",
    "sns.set_style('whitegrid')\n",
    "fig, ax = plt.subplots(figsize=(10, 7))\n",
    "athletes2['count'].hist(ax=ax, bins=100, edgecolor='black') \n",
    "for pos in deciles:\n",
    "    handle = plt.axvline(pos, color='r')\n",
    "ax.legend([handle], ['deciles'], fontsize=16) \n",
    "ax.set_xscale('log', nonpositive='clip')\n",
    "ax.set_yscale('log', nonpositive='clip')\n",
    "ax.tick_params(labelsize=16)\n",
    "_ = ax.set_xlabel('Review Count', fontsize=16) \n",
    "_ = ax.set_ylabel('Occurrence', fontsize=16)"
   ]
  },
  {
   "cell_type": "markdown",
   "id": "e31cc688",
   "metadata": {},
   "source": [
    "## Question 1. Comparing the histograms before and after applying log transform and answer the question: why do we need to apply log transform on some data?"
   ]
  },
  {
   "cell_type": "markdown",
   "id": "37a6431d",
   "metadata": {},
   "source": [
    "**Answer to Q1**: Type your answer here"
   ]
  },
  {
   "cell_type": "markdown",
   "id": "3f63fa4e",
   "metadata": {},
   "source": [
    "---\n"
   ]
  },
  {
   "cell_type": "markdown",
   "id": "1eefd91e",
   "metadata": {},
   "source": [
    "## **(Tutorial) Box-Cox transform**"
   ]
  },
  {
   "cell_type": "code",
   "execution_count": 27,
   "id": "e4818c6c",
   "metadata": {},
   "outputs": [],
   "source": [
    "x = np.arange(0.001, 3, 0.01)\n",
    "lambda0 = np.log(x)\n",
    "one_quarter = (x**0.25 - 1)/0.25\n",
    "square_root = (x**0.5 - 1)/0.5\n",
    "three_quarters = (x**0.75 - 1)/0.75\n",
    "one_point_five = (x**1.5 - 1)/1.5"
   ]
  },
  {
   "cell_type": "code",
   "execution_count": 28,
   "id": "83a4d38a",
   "metadata": {},
   "outputs": [
    {
     "data": {
      "text/plain": [
       "Text(0.5, 1.0, 'Box-Cox Transforms')"
      ]
     },
     "execution_count": 28,
     "metadata": {},
     "output_type": "execute_result"
    },
    {
     "data": {
      "image/png": "[encoded data removed]",
      "text/plain": [
       "<Figure size 720x504 with 1 Axes>"
      ]
     },
     "metadata": {},
     "output_type": "display_data"
    }
   ],
   "source": [
    "fig, ax = plt.subplots(figsize=(10, 7))\n",
    "plt.plot(x, lambda0, 'c', \n",
    "         x, one_quarter, 'r--', \n",
    "         x, square_root, 'g-.', \n",
    "         x, three_quarters, 'b:',\n",
    "         x, one_point_five, 'k')\n",
    "plt.legend(['lambda = 0', 'lambda = 0.25', 'lambda = 0.5', 'lambda = 0.75', 'lambda = 1.5'], \n",
    "           loc='lower right',\n",
    "           prop={'size': 14})\n",
    "ax.tick_params(labelsize=14)\n",
    "ax.set_xlim([0.0,3.0])\n",
    "ax.set_xlabel('x', fontsize=14)\n",
    "ax.set_ylabel('y', fontsize=14)\n",
    "ax.set_title('Box-Cox Transforms', fontsize=14)"
   ]
  },
  {
   "cell_type": "markdown",
   "id": "add36310",
   "metadata": {},
   "source": [
    "## Example: Visualizing the histograms of original, log transformed, and Box-Cox transformed review counts"
   ]
  },
  {
   "cell_type": "code",
   "execution_count": 29,
   "id": "b56a9763",
   "metadata": {},
   "outputs": [],
   "source": [
    "from scipy import stats"
   ]
  },
  {
   "cell_type": "code",
   "execution_count": 30,
   "id": "714deac4",
   "metadata": {},
   "outputs": [],
   "source": [
    "rc_log = stats.boxcox(biz_df['review_count'], lmbda=0)\n",
    "rc_bc, bc_params = stats.boxcox(biz_df['review_count'])\n",
    "biz_df['rc_bc'] = rc_bc\n",
    "biz_df['rc_log'] = rc_log"
   ]
  },
  {
   "cell_type": "code",
   "execution_count": 31,
   "id": "77d11246",
   "metadata": {},
   "outputs": [
    {
     "data": {
      "text/plain": [
       "Text(0, 0.5, 'Occurrence')"
      ]
     },
     "execution_count": 31,
     "metadata": {},
     "output_type": "execute_result"
    },
    {
     "data": {
      "image/png": "[encoded data removed]",
      "text/plain": [
       "<Figure size 720x1008 with 3 Axes>"
      ]
     },
     "metadata": {},
     "output_type": "display_data"
    }
   ],
   "source": [
    "fig, (ax1, ax2, ax3) = plt.subplots(3,1, figsize=(10, 14))\n",
    "\n",
    "# 원본 리뷰 카운트 히스토그램\n",
    "biz_df['review_count'].hist(ax=ax1, bins=100)\n",
    "ax1.set_yscale('log', nonpositive='clip')\n",
    "ax1.tick_params(labelsize=14)\n",
    "ax1.set_title('Review Counts Histogram', fontsize=14)\n",
    "ax1.set_xlabel('')\n",
    "ax1.set_ylabel('Occurrence', fontsize=14)\n",
    "\n",
    "# 로그 변환된 리뷰 카운트\n",
    "biz_df['rc_log'].hist(ax=ax2, bins=100)\n",
    "ax2.set_yscale('log', nonpositive='clip')\n",
    "ax2.tick_params(labelsize=14)\n",
    "ax2.set_title('Log Transformed Counts Histogram', fontsize=14)\n",
    "ax2.set_xlabel('')\n",
    "ax2.set_ylabel('Occurrence', fontsize=14)\n",
    "\n",
    "# Box-Cox 변환된 리뷰 카운트\n",
    "biz_df['rc_bc'].hist(ax=ax3, bins=100)\n",
    "ax3.set_yscale('log', nonpositive='clip')\n",
    "ax3.tick_params(labelsize=14)\n",
    "ax3.set_title('Box-Cox Transformed Counts Histogram', fontsize=14)\n",
    "ax3.set_xlabel('')\n",
    "ax3.set_ylabel('Occurrence', fontsize=14)"
   ]
  },
  {
   "cell_type": "markdown",
   "id": "cb20c0ec",
   "metadata": {},
   "source": [
    "## **Task 3. Visualizing the histograms of original, log transformed, and Box-Cox transformed athletes numbers (data used in task 1 and task 2)**"
   ]
  },
  {
   "cell_type": "code",
   "execution_count": 32,
   "id": "43df7081",
   "metadata": {},
   "outputs": [],
   "source": [
    "# write your code here\n",
    "rc_log = stats.boxcox(athletes2['count'], lmbda=0)\n",
    "rc_bc, bc_params = stats.boxcox(athletes2['count'])\n",
    "athletes2['rc_bc'] = rc_bc\n",
    "athletes2['rc_log'] = rc_log"
   ]
  },
  {
   "cell_type": "code",
   "execution_count": 33,
   "metadata": {},
   "outputs": [
    {
     "data": {
      "text/plain": [
       "Text(0, 0.5, 'Occurrence')"
      ]
     },
     "execution_count": 33,
     "metadata": {},
     "output_type": "execute_result"
    },
    {
     "data": {
      "image/png": "[encoded data removed]",
      "text/plain": [
       "<Figure size 720x1008 with 3 Axes>"
      ]
     },
     "metadata": {},
     "output_type": "display_data"
    }
   ],
   "source": [
    "fig, (ax1, ax2, ax3) = plt.subplots(3,1, figsize=(10, 14))\n",
    "\n",
    "# 원본 리뷰 카운트 히스토그램\n",
    "athletes2['count'].hist(ax=ax1, bins=100)\n",
    "ax1.set_yscale('log', nonpositive='clip')\n",
    "ax1.tick_params(labelsize=14)\n",
    "ax1.set_title('Athelete Counts Histogram', fontsize=14)\n",
    "ax1.set_xlabel('')\n",
    "ax1.set_ylabel('Occurrence', fontsize=14)\n",
    "\n",
    "# 로그 변환된 리뷰 카운트\n",
    "athletes2['rc_log'].hist(ax=ax2, bins=100)\n",
    "ax2.set_yscale('log', nonpositive='clip')\n",
    "ax2.tick_params(labelsize=14)\n",
    "ax2.set_title('Log Transformed Counts Histogram', fontsize=14)\n",
    "ax2.set_xlabel('')\n",
    "ax2.set_ylabel('Occurrence', fontsize=14)\n",
    "\n",
    "# Box-Cox 변환된 리뷰 카운트\n",
    "athletes2['rc_bc'].hist(ax=ax3, bins=100)\n",
    "ax3.set_yscale('log', nonpositive='clip')\n",
    "ax3.tick_params(labelsize=14)\n",
    "ax3.set_title('Box-Cox Transformed Counts Histogram', fontsize=14)\n",
    "ax3.set_xlabel('')\n",
    "ax3.set_ylabel('Occurrence', fontsize=14)"
   ]
  },
  {
   "cell_type": "markdown",
   "id": "56bf63f7",
   "metadata": {},
   "source": [
    "## Question 2. Listing another transform method other than log and box-cox transform. Explain when to use them."
   ]
  },
  {
   "cell_type": "markdown",
   "id": "31358ddf",
   "metadata": {},
   "source": [
    "**Answer to Q2:** write your answer here"
   ]
  },
  {
   "cell_type": "markdown",
   "id": "a3e74bfb",
   "metadata": {},
   "source": [
    "---\n"
   ]
  },
  {
   "cell_type": "markdown",
   "id": "11103c1f",
   "metadata": {},
   "source": [
    "## Feature scaling example\n",
    "**Online News Popularity Dataset**: https://archive.ics.uci.edu/ml/machine-learning-databases/00332/OnlineNewsPopularity.zip"
   ]
  },
  {
   "cell_type": "code",
   "execution_count": 34,
   "id": "3e1609d4",
   "metadata": {},
   "outputs": [],
   "source": [
    "import sklearn.preprocessing as preproc"
   ]
  },
  {
   "cell_type": "code",
   "execution_count": 35,
   "id": "f24edaa0",
   "metadata": {},
   "outputs": [
    {
     "data": {
      "text/html": [
       "<div>\n",
       "<style scoped>\n",
       "    .dataframe tbody tr th:only-of-type {\n",
       "        vertical-align: middle;\n",
       "    }\n",
       "\n",
       "    .dataframe tbody tr th {\n",
       "        vertical-align: top;\n",
       "    }\n",
       "\n",
       "    .dataframe thead th {\n",
       "        text-align: right;\n",
       "    }\n",
       "</style>\n",
       "<table border=\"1\" class=\"dataframe\">\n",
       "  <thead>\n",
       "    <tr style=\"text-align: right;\">\n",
       "      <th></th>\n",
       "      <th>url</th>\n",
       "      <th>timedelta</th>\n",
       "      <th>n_tokens_title</th>\n",
       "      <th>n_tokens_content</th>\n",
       "      <th>n_unique_tokens</th>\n",
       "      <th>n_non_stop_words</th>\n",
       "      <th>n_non_stop_unique_tokens</th>\n",
       "      <th>num_hrefs</th>\n",
       "      <th>num_self_hrefs</th>\n",
       "      <th>num_imgs</th>\n",
       "      <th>...</th>\n",
       "      <th>min_positive_polarity</th>\n",
       "      <th>max_positive_polarity</th>\n",
       "      <th>avg_negative_polarity</th>\n",
       "      <th>min_negative_polarity</th>\n",
       "      <th>max_negative_polarity</th>\n",
       "      <th>title_subjectivity</th>\n",
       "      <th>title_sentiment_polarity</th>\n",
       "      <th>abs_title_subjectivity</th>\n",
       "      <th>abs_title_sentiment_polarity</th>\n",
       "      <th>shares</th>\n",
       "    </tr>\n",
       "  </thead>\n",
       "  <tbody>\n",
       "    <tr>\n",
       "      <th>0</th>\n",
       "      <td>http://mashable.com/2013/01/07/amazon-instant-...</td>\n",
       "      <td>731.0</td>\n",
       "      <td>12.0</td>\n",
       "      <td>219.0</td>\n",
       "      <td>0.663594</td>\n",
       "      <td>1.0</td>\n",
       "      <td>0.815385</td>\n",
       "      <td>4.0</td>\n",
       "      <td>2.0</td>\n",
       "      <td>1.0</td>\n",
       "      <td>...</td>\n",
       "      <td>0.100000</td>\n",
       "      <td>0.7</td>\n",
       "      <td>-0.350000</td>\n",
       "      <td>-0.600</td>\n",
       "      <td>-0.200000</td>\n",
       "      <td>0.500000</td>\n",
       "      <td>-0.187500</td>\n",
       "      <td>0.000000</td>\n",
       "      <td>0.187500</td>\n",
       "      <td>593</td>\n",
       "    </tr>\n",
       "    <tr>\n",
       "      <th>1</th>\n",
       "      <td>http://mashable.com/2013/01/07/ap-samsung-spon...</td>\n",
       "      <td>731.0</td>\n",
       "      <td>9.0</td>\n",
       "      <td>255.0</td>\n",
       "      <td>0.604743</td>\n",
       "      <td>1.0</td>\n",
       "      <td>0.791946</td>\n",
       "      <td>3.0</td>\n",
       "      <td>1.0</td>\n",
       "      <td>1.0</td>\n",
       "      <td>...</td>\n",
       "      <td>0.033333</td>\n",
       "      <td>0.7</td>\n",
       "      <td>-0.118750</td>\n",
       "      <td>-0.125</td>\n",
       "      <td>-0.100000</td>\n",
       "      <td>0.000000</td>\n",
       "      <td>0.000000</td>\n",
       "      <td>0.500000</td>\n",
       "      <td>0.000000</td>\n",
       "      <td>711</td>\n",
       "    </tr>\n",
       "    <tr>\n",
       "      <th>2</th>\n",
       "      <td>http://mashable.com/2013/01/07/apple-40-billio...</td>\n",
       "      <td>731.0</td>\n",
       "      <td>9.0</td>\n",
       "      <td>211.0</td>\n",
       "      <td>0.575130</td>\n",
       "      <td>1.0</td>\n",
       "      <td>0.663866</td>\n",
       "      <td>3.0</td>\n",
       "      <td>1.0</td>\n",
       "      <td>1.0</td>\n",
       "      <td>...</td>\n",
       "      <td>0.100000</td>\n",
       "      <td>1.0</td>\n",
       "      <td>-0.466667</td>\n",
       "      <td>-0.800</td>\n",
       "      <td>-0.133333</td>\n",
       "      <td>0.000000</td>\n",
       "      <td>0.000000</td>\n",
       "      <td>0.500000</td>\n",
       "      <td>0.000000</td>\n",
       "      <td>1500</td>\n",
       "    </tr>\n",
       "    <tr>\n",
       "      <th>3</th>\n",
       "      <td>http://mashable.com/2013/01/07/astronaut-notre...</td>\n",
       "      <td>731.0</td>\n",
       "      <td>9.0</td>\n",
       "      <td>531.0</td>\n",
       "      <td>0.503788</td>\n",
       "      <td>1.0</td>\n",
       "      <td>0.665635</td>\n",
       "      <td>9.0</td>\n",
       "      <td>0.0</td>\n",
       "      <td>1.0</td>\n",
       "      <td>...</td>\n",
       "      <td>0.136364</td>\n",
       "      <td>0.8</td>\n",
       "      <td>-0.369697</td>\n",
       "      <td>-0.600</td>\n",
       "      <td>-0.166667</td>\n",
       "      <td>0.000000</td>\n",
       "      <td>0.000000</td>\n",
       "      <td>0.500000</td>\n",
       "      <td>0.000000</td>\n",
       "      <td>1200</td>\n",
       "    </tr>\n",
       "    <tr>\n",
       "      <th>4</th>\n",
       "      <td>http://mashable.com/2013/01/07/att-u-verse-apps/</td>\n",
       "      <td>731.0</td>\n",
       "      <td>13.0</td>\n",
       "      <td>1072.0</td>\n",
       "      <td>0.415646</td>\n",
       "      <td>1.0</td>\n",
       "      <td>0.540890</td>\n",
       "      <td>19.0</td>\n",
       "      <td>19.0</td>\n",
       "      <td>20.0</td>\n",
       "      <td>...</td>\n",
       "      <td>0.033333</td>\n",
       "      <td>1.0</td>\n",
       "      <td>-0.220192</td>\n",
       "      <td>-0.500</td>\n",
       "      <td>-0.050000</td>\n",
       "      <td>0.454545</td>\n",
       "      <td>0.136364</td>\n",
       "      <td>0.045455</td>\n",
       "      <td>0.136364</td>\n",
       "      <td>505</td>\n",
       "    </tr>\n",
       "  </tbody>\n",
       "</table>\n",
       "<p>5 rows × 61 columns</p>\n",
       "</div>"
      ],
      "text/plain": [
       "                                                 url  timedelta  \\\n",
       "0  http://mashable.com/2013/01/07/amazon-instant-...      731.0   \n",
       "1  http://mashable.com/2013/01/07/ap-samsung-spon...      731.0   \n",
       "2  http://mashable.com/2013/01/07/apple-40-billio...      731.0   \n",
       "3  http://mashable.com/2013/01/07/astronaut-notre...      731.0   \n",
       "4   http://mashable.com/2013/01/07/att-u-verse-apps/      731.0   \n",
       "\n",
       "   n_tokens_title  n_tokens_content  n_unique_tokens  n_non_stop_words  \\\n",
       "0            12.0             219.0         0.663594               1.0   \n",
       "1             9.0             255.0         0.604743               1.0   \n",
       "2             9.0             211.0         0.575130               1.0   \n",
       "3             9.0             531.0         0.503788               1.0   \n",
       "4            13.0            1072.0         0.415646               1.0   \n",
       "\n",
       "   n_non_stop_unique_tokens  num_hrefs  num_self_hrefs  num_imgs  ...  \\\n",
       "0                  0.815385        4.0             2.0       1.0  ...   \n",
       "1                  0.791946        3.0             1.0       1.0  ...   \n",
       "2                  0.663866        3.0             1.0       1.0  ...   \n",
       "3                  0.665635        9.0             0.0       1.0  ...   \n",
       "4                  0.540890       19.0            19.0      20.0  ...   \n",
       "\n",
       "   min_positive_polarity  max_positive_polarity  avg_negative_polarity  \\\n",
       "0               0.100000                    0.7              -0.350000   \n",
       "1               0.033333                    0.7              -0.118750   \n",
       "2               0.100000                    1.0              -0.466667   \n",
       "3               0.136364                    0.8              -0.369697   \n",
       "4               0.033333                    1.0              -0.220192   \n",
       "\n",
       "   min_negative_polarity  max_negative_polarity  title_subjectivity  \\\n",
       "0                 -0.600              -0.200000            0.500000   \n",
       "1                 -0.125              -0.100000            0.000000   \n",
       "2                 -0.800              -0.133333            0.000000   \n",
       "3                 -0.600              -0.166667            0.000000   \n",
       "4                 -0.500              -0.050000            0.454545   \n",
       "\n",
       "   title_sentiment_polarity  abs_title_subjectivity  \\\n",
       "0                 -0.187500                0.000000   \n",
       "1                  0.000000                0.500000   \n",
       "2                  0.000000                0.500000   \n",
       "3                  0.000000                0.500000   \n",
       "4                  0.136364                0.045455   \n",
       "\n",
       "   abs_title_sentiment_polarity  shares  \n",
       "0                      0.187500     593  \n",
       "1                      0.000000     711  \n",
       "2                      0.000000    1500  \n",
       "3                      0.000000    1200  \n",
       "4                      0.136364     505  \n",
       "\n",
       "[5 rows x 61 columns]"
      ]
     },
     "execution_count": 35,
     "metadata": {},
     "output_type": "execute_result"
    }
   ],
   "source": [
    "news_df = pd.read_csv('./OnlineNewsPopularity/OnlineNewsPopularity.csv', delimiter=', ',engine = 'python') \n",
    "news_df.head()"
   ]
  },
  {
   "cell_type": "code",
   "execution_count": 36,
   "id": "11bcb993",
   "metadata": {},
   "outputs": [
    {
     "data": {
      "text/plain": [
       "array([0.02584376, 0.03009205, 0.02489969, ..., 0.05215955, 0.08048147,\n",
       "       0.01852726])"
      ]
     },
     "execution_count": 36,
     "metadata": {},
     "output_type": "execute_result"
    }
   ],
   "source": [
    "# Min-max scaling\n",
    "news_df['minmax'] = preproc.minmax_scale(news_df[['n_tokens_content']])\n",
    "news_df['minmax'].values"
   ]
  },
  {
   "cell_type": "code",
   "execution_count": 37,
   "id": "977dacc1",
   "metadata": {},
   "outputs": [
    {
     "data": {
      "text/plain": [
       "array([-0.69521045, -0.61879381, -0.71219192, ..., -0.2218518 ,\n",
       "        0.28759248, -0.82681689])"
      ]
     },
     "execution_count": 37,
     "metadata": {},
     "output_type": "execute_result"
    }
   ],
   "source": [
    "# Standardization\n",
    "news_df['standardized'] = preproc.StandardScaler().fit_transform(news_df[['n_tokens_content']])\n",
    "news_df['standardized'].values"
   ]
  },
  {
   "cell_type": "code",
   "execution_count": 38,
   "id": "7ecb5209",
   "metadata": {},
   "outputs": [
    {
     "data": {
      "text/plain": [
       "array([0.00152439, 0.00177498, 0.00146871, ..., 0.00307663, 0.0047472 ,\n",
       "       0.00109283])"
      ]
     },
     "execution_count": 38,
     "metadata": {},
     "output_type": "execute_result"
    }
   ],
   "source": [
    "# L2-normalization\n",
    "news_df['l2_normalized'] = preproc.normalize(news_df[['n_tokens_content']], axis=0)\n",
    "news_df['l2_normalized'].values"
   ]
  },
  {
   "cell_type": "code",
   "execution_count": 39,
   "id": "202535cc",
   "metadata": {},
   "outputs": [
    {
     "data": {
      "text/plain": [
       "Text(0.5, 39.49999999999994, 'L2-normalized word count')"
      ]
     },
     "execution_count": 39,
     "metadata": {},
     "output_type": "execute_result"
    },
    {
     "data": {
      "image/png": "[encoded data removed]",
      "text/plain": [
       "<Figure size 576x504 with 4 Axes>"
      ]
     },
     "metadata": {},
     "output_type": "display_data"
    }
   ],
   "source": [
    "fig, (ax1, ax2, ax3, ax4) = plt.subplots(4,1, figsize=(8, 7))\n",
    "fig.tight_layout(h_pad=2.0)\n",
    "\n",
    "news_df['n_tokens_content'].hist(ax=ax1, bins=100)\n",
    "ax1.tick_params(labelsize=14)\n",
    "ax1.set_xlabel('Article word count', fontsize=14)\n",
    "ax1.set_ylabel('Number of articles', fontsize=14)\n",
    "\n",
    "news_df['minmax'].hist(ax=ax2, bins=100)\n",
    "ax2.tick_params(labelsize=14)\n",
    "ax2.set_xlabel('Min-max scaled word count', fontsize=14)\n",
    "# ax2.set_ylabel('Number of articles', fontsize=14)\n",
    "\n",
    "news_df['standardized'].hist(ax=ax3, bins=100)\n",
    "ax3.tick_params(labelsize=14)\n",
    "ax3.set_xlabel('Standardized word count', fontsize=14)\n",
    "# ax3.set_ylabel('Number of articles', fontsize=14)\n",
    "\n",
    "news_df['l2_normalized'].hist(ax=ax4, bins=100)\n",
    "ax4.tick_params(labelsize=14)\n",
    "ax4.set_xlabel('L2-normalized word count', fontsize=14)\n",
    "# ax4.set_ylabel('Number of articles', fontsize=14)"
   ]
  },
  {
   "cell_type": "markdown",
   "id": "771b78a4",
   "metadata": {},
   "source": [
    "##  Task 4. Visualizing the histograms of original and scaled data (the data used in the previous tasks)"
   ]
  },
  {
   "cell_type": "code",
   "execution_count": 40,
   "id": "c7c77032",
   "metadata": {},
   "outputs": [
    {
     "data": {
      "text/plain": [
       "array([0.14681892, 0.52528548, 0.57748777, ..., 0.51549755, 0.51549755,\n",
       "       0.31484502])"
      ]
     },
     "execution_count": 40,
     "metadata": {},
     "output_type": "execute_result"
    }
   ],
   "source": [
    "# write your code here\n",
    "# Min-max scaling\n",
    "athletes2['minmax'] = preproc.minmax_scale(athletes2[['count']])\n",
    "athletes2['minmax'].values"
   ]
  },
  {
   "cell_type": "code",
   "execution_count": 41,
   "metadata": {},
   "outputs": [
    {
     "data": {
      "text/plain": [
       "array([-0.82648175,  0.423385  ,  0.59578041, ...,  0.39106086,\n",
       "        0.39106086, -0.27158401])"
      ]
     },
     "execution_count": 41,
     "metadata": {},
     "output_type": "execute_result"
    }
   ],
   "source": [
    "# Standardization\n",
    "athletes2['standardized'] = preproc.StandardScaler().fit_transform(athletes2[['count']])\n",
    "athletes2['standardized'].values"
   ]
  },
  {
   "cell_type": "code",
   "execution_count": 42,
   "metadata": {},
   "outputs": [
    {
     "data": {
      "text/plain": [
       "array([0.0028398 , 0.01000103, 0.01098879, ..., 0.00981583, 0.00981583,\n",
       "       0.00601914])"
      ]
     },
     "execution_count": 42,
     "metadata": {},
     "output_type": "execute_result"
    }
   ],
   "source": [
    "# L2-normalization\n",
    "athletes2['l2_normalized'] = preproc.normalize(athletes2[['count']], axis=0)\n",
    "athletes2['l2_normalized'].values"
   ]
  },
  {
   "cell_type": "code",
   "execution_count": 43,
   "metadata": {},
   "outputs": [
    {
     "data": {
      "text/plain": [
       "Text(0.5, 39.49999999999994, 'L2-normalized Athelete count')"
      ]
     },
     "execution_count": 43,
     "metadata": {},
     "output_type": "execute_result"
    },
    {
     "data": {
      "image/png": "[encoded data removed]",
      "text/plain": [
       "<Figure size 576x504 with 4 Axes>"
      ]
     },
     "metadata": {},
     "output_type": "display_data"
    }
   ],
   "source": [
    "fig, (ax1, ax2, ax3, ax4) = plt.subplots(4,1, figsize=(8, 7))\n",
    "fig.tight_layout(h_pad=2.0)\n",
    "\n",
    "athletes2['count'].hist(ax=ax1, bins=100)\n",
    "ax1.tick_params(labelsize=14)\n",
    "ax1.set_xlabel('Athelete count', fontsize=14)\n",
    "ax1.set_ylabel('Number of Countries', fontsize=14)\n",
    "\n",
    "athletes2['minmax'].hist(ax=ax2, bins=100)\n",
    "ax2.tick_params(labelsize=14)\n",
    "ax2.set_xlabel('Min-max scaled Athelete count', fontsize=14)\n",
    "# ax2.set_ylabel('Number of articles', fontsize=14)\n",
    "\n",
    "athletes2['standardized'].hist(ax=ax3, bins=100)\n",
    "ax3.tick_params(labelsize=14)\n",
    "ax3.set_xlabel('Standardized Athelete count', fontsize=14)\n",
    "# ax3.set_ylabel('Number of articles', fontsize=14)\n",
    "\n",
    "athletes2['l2_normalized'].hist(ax=ax4, bins=100)\n",
    "ax4.tick_params(labelsize=14)\n",
    "ax4.set_xlabel('L2-normalized Athelete count', fontsize=14)\n",
    "# ax4.set_ylabel('Number of articles', fontsize=14)"
   ]
  },
  {
   "cell_type": "markdown",
   "id": "0e00f7eb",
   "metadata": {},
   "source": [
    "## Question 3. Comparing the four histograms, listing the similarities and differences between them."
   ]
  },
  {
   "cell_type": "markdown",
   "id": "f081331a",
   "metadata": {},
   "source": [
    "**Answer to Q3**: type your answer here"
   ]
  },
  {
   "cell_type": "markdown",
   "id": "001aa247",
   "metadata": {},
   "source": [
    "---\n"
   ]
  },
  {
   "cell_type": "markdown",
   "id": "4fafb554",
   "metadata": {},
   "source": [
    "## Question 4. Comparing the histograms of feature scaling and the histograms of transforms, listing the main difference between them."
   ]
  },
  {
   "cell_type": "markdown",
   "id": "34f7ee8d",
   "metadata": {},
   "source": [
    "**Answer to Q4:** type your answer here"
   ]
  },
  {
   "cell_type": "markdown",
   "id": "08eeeec1",
   "metadata": {},
   "source": [
    "---\n"
   ]
  },
  {
   "cell_type": "markdown",
   "id": "ecf02e94",
   "metadata": {},
   "source": [
    "## Example of interaction features in prediction"
   ]
  },
  {
   "cell_type": "code",
   "execution_count": 44,
   "id": "04bc1b8b",
   "metadata": {},
   "outputs": [],
   "source": [
    "from sklearn import linear_model\n",
    "from sklearn.model_selection import train_test_split\n",
    "import sklearn.preprocessing as preproc"
   ]
  },
  {
   "cell_type": "code",
   "execution_count": 45,
   "id": "e733447d",
   "metadata": {},
   "outputs": [
    {
     "data": {
      "text/plain": [
       "Index(['url', 'timedelta', 'n_tokens_title', 'n_tokens_content',\n",
       "       'n_unique_tokens', 'n_non_stop_words', 'n_non_stop_unique_tokens',\n",
       "       'num_hrefs', 'num_self_hrefs', 'num_imgs', 'num_videos',\n",
       "       'average_token_length', 'num_keywords', 'data_channel_is_lifestyle',\n",
       "       'data_channel_is_entertainment', 'data_channel_is_bus',\n",
       "       'data_channel_is_socmed', 'data_channel_is_tech',\n",
       "       'data_channel_is_world', 'kw_min_min', 'kw_max_min', 'kw_avg_min',\n",
       "       'kw_min_max', 'kw_max_max', 'kw_avg_max', 'kw_min_avg', 'kw_max_avg',\n",
       "       'kw_avg_avg', 'self_reference_min_shares', 'self_reference_max_shares',\n",
       "       'self_reference_avg_sharess', 'weekday_is_monday', 'weekday_is_tuesday',\n",
       "       'weekday_is_wednesday', 'weekday_is_thursday', 'weekday_is_friday',\n",
       "       'weekday_is_saturday', 'weekday_is_sunday', 'is_weekend', 'LDA_00',\n",
       "       'LDA_01', 'LDA_02', 'LDA_03', 'LDA_04', 'global_subjectivity',\n",
       "       'global_sentiment_polarity', 'global_rate_positive_words',\n",
       "       'global_rate_negative_words', 'rate_positive_words',\n",
       "       'rate_negative_words', 'avg_positive_polarity', 'min_positive_polarity',\n",
       "       'max_positive_polarity', 'avg_negative_polarity',\n",
       "       'min_negative_polarity', 'max_negative_polarity', 'title_subjectivity',\n",
       "       'title_sentiment_polarity', 'abs_title_subjectivity',\n",
       "       'abs_title_sentiment_polarity', 'shares', 'minmax', 'standardized',\n",
       "       'l2_normalized'],\n",
       "      dtype='object')"
      ]
     },
     "execution_count": 45,
     "metadata": {},
     "output_type": "execute_result"
    }
   ],
   "source": [
    "news_df.columns"
   ]
  },
  {
   "cell_type": "code",
   "execution_count": 46,
   "id": "e1c3b43e",
   "metadata": {},
   "outputs": [],
   "source": [
    "features = ['n_tokens_title', 'n_tokens_content', 'n_unique_tokens', 'n_non_stop_words', 'n_non_stop_unique_tokens',\n",
    "            'num_hrefs', 'num_self_hrefs', 'num_imgs', 'num_videos', 'average_token_length', 'num_keywords', \n",
    "            'data_channel_is_lifestyle', 'data_channel_is_entertainment', 'data_channel_is_bus',\n",
    "            'data_channel_is_socmed', 'data_channel_is_tech', 'data_channel_is_world']"
   ]
  },
  {
   "cell_type": "code",
   "execution_count": 47,
   "id": "02676cce",
   "metadata": {},
   "outputs": [
    {
     "data": {
      "text/plain": [
       "(39644, 17)"
      ]
     },
     "execution_count": 47,
     "metadata": {},
     "output_type": "execute_result"
    }
   ],
   "source": [
    "X = news_df[features]\n",
    "y = news_df[['shares']]\n",
    "\n",
    "X.shape"
   ]
  },
  {
   "cell_type": "code",
   "execution_count": 48,
   "id": "a8087eb9",
   "metadata": {},
   "outputs": [],
   "source": [
    "X2 = preproc.PolynomialFeatures(include_bias=False).fit_transform(X)\n",
    "X1_train, X1_test, X2_train, X2_test, y_train, y_test = train_test_split(X, X2, y, test_size=0.3, random_state=123)"
   ]
  },
  {
   "cell_type": "code",
   "execution_count": 49,
   "id": "5d39aa70",
   "metadata": {},
   "outputs": [],
   "source": [
    "def evaluate_feature(X_train, X_test, y_train, y_test):\n",
    "    \"\"\"Fit a linear regression model on the training set and score on the test set\"\"\"\n",
    "    model = linear_model.LinearRegression().fit(X_train, y_train)\n",
    "    r_score = model.score(X_test, y_test)\n",
    "    return (model, r_score)"
   ]
  },
  {
   "cell_type": "code",
   "execution_count": 50,
   "id": "2b1ce61d",
   "metadata": {},
   "outputs": [
    {
     "name": "stdout",
     "output_type": "stream",
     "text": [
      "R-squared score with singleton features: 0.00924\n",
      "R-squared score with pairwise features: 0.0113217469\n"
     ]
    }
   ],
   "source": [
    "(m1, r1) = evaluate_feature(X1_train, X1_test, y_train, y_test)\n",
    "print(\"R-squared score with singleton features: %0.5f\" % r1)\n",
    "\n",
    "(m2, r2) = evaluate_feature(X2_train, X2_test, y_train, y_test)\n",
    "print(\"R-squared score with pairwise features: %0.10f\" % r2)"
   ]
  },
  {
   "cell_type": "markdown",
   "id": "63e342c8",
   "metadata": {},
   "source": [
    "## Task 5. Interaction features in prediction with dry bean dataset\n",
    "**Dry bean dataset**: https://archive.ics.uci.edu/ml/machine-learning-databases/00602/DryBeanDataset.zip"
   ]
  },
  {
   "cell_type": "markdown",
   "id": "dcbd1011",
   "metadata": {},
   "source": [
    "**note:** Try to encode categorical data into numeric data (the last column 'class') first.\n",
    "Then apply the interation features and compare the r-squared scores of the singleton features and the interaction features"
   ]
  },
  {
   "cell_type": "code",
   "execution_count": 51,
   "id": "7a24ecbf",
   "metadata": {},
   "outputs": [
    {
     "data": {
      "text/html": [
       "<div>\n",
       "<style scoped>\n",
       "    .dataframe tbody tr th:only-of-type {\n",
       "        vertical-align: middle;\n",
       "    }\n",
       "\n",
       "    .dataframe tbody tr th {\n",
       "        vertical-align: top;\n",
       "    }\n",
       "\n",
       "    .dataframe thead th {\n",
       "        text-align: right;\n",
       "    }\n",
       "</style>\n",
       "<table border=\"1\" class=\"dataframe\">\n",
       "  <thead>\n",
       "    <tr style=\"text-align: right;\">\n",
       "      <th></th>\n",
       "      <th>Area</th>\n",
       "      <th>Perimeter</th>\n",
       "      <th>MajorAxisLength</th>\n",
       "      <th>MinorAxisLength</th>\n",
       "      <th>AspectRation</th>\n",
       "      <th>Eccentricity</th>\n",
       "      <th>ConvexArea</th>\n",
       "      <th>EquivDiameter</th>\n",
       "      <th>Extent</th>\n",
       "      <th>Solidity</th>\n",
       "      <th>roundness</th>\n",
       "      <th>Compactness</th>\n",
       "      <th>ShapeFactor1</th>\n",
       "      <th>ShapeFactor2</th>\n",
       "      <th>ShapeFactor3</th>\n",
       "      <th>ShapeFactor4</th>\n",
       "      <th>Class</th>\n",
       "    </tr>\n",
       "  </thead>\n",
       "  <tbody>\n",
       "    <tr>\n",
       "      <th>0</th>\n",
       "      <td>28395</td>\n",
       "      <td>610.291</td>\n",
       "      <td>208.178117</td>\n",
       "      <td>173.888747</td>\n",
       "      <td>1.197191</td>\n",
       "      <td>0.549812</td>\n",
       "      <td>28715</td>\n",
       "      <td>190.141097</td>\n",
       "      <td>0.763923</td>\n",
       "      <td>0.988856</td>\n",
       "      <td>0.958027</td>\n",
       "      <td>0.913358</td>\n",
       "      <td>0.007332</td>\n",
       "      <td>0.003147</td>\n",
       "      <td>0.834222</td>\n",
       "      <td>0.998724</td>\n",
       "      <td>SEKER</td>\n",
       "    </tr>\n",
       "    <tr>\n",
       "      <th>1</th>\n",
       "      <td>28734</td>\n",
       "      <td>638.018</td>\n",
       "      <td>200.524796</td>\n",
       "      <td>182.734419</td>\n",
       "      <td>1.097356</td>\n",
       "      <td>0.411785</td>\n",
       "      <td>29172</td>\n",
       "      <td>191.272750</td>\n",
       "      <td>0.783968</td>\n",
       "      <td>0.984986</td>\n",
       "      <td>0.887034</td>\n",
       "      <td>0.953861</td>\n",
       "      <td>0.006979</td>\n",
       "      <td>0.003564</td>\n",
       "      <td>0.909851</td>\n",
       "      <td>0.998430</td>\n",
       "      <td>SEKER</td>\n",
       "    </tr>\n",
       "    <tr>\n",
       "      <th>2</th>\n",
       "      <td>29380</td>\n",
       "      <td>624.110</td>\n",
       "      <td>212.826130</td>\n",
       "      <td>175.931143</td>\n",
       "      <td>1.209713</td>\n",
       "      <td>0.562727</td>\n",
       "      <td>29690</td>\n",
       "      <td>193.410904</td>\n",
       "      <td>0.778113</td>\n",
       "      <td>0.989559</td>\n",
       "      <td>0.947849</td>\n",
       "      <td>0.908774</td>\n",
       "      <td>0.007244</td>\n",
       "      <td>0.003048</td>\n",
       "      <td>0.825871</td>\n",
       "      <td>0.999066</td>\n",
       "      <td>SEKER</td>\n",
       "    </tr>\n",
       "    <tr>\n",
       "      <th>3</th>\n",
       "      <td>30008</td>\n",
       "      <td>645.884</td>\n",
       "      <td>210.557999</td>\n",
       "      <td>182.516516</td>\n",
       "      <td>1.153638</td>\n",
       "      <td>0.498616</td>\n",
       "      <td>30724</td>\n",
       "      <td>195.467062</td>\n",
       "      <td>0.782681</td>\n",
       "      <td>0.976696</td>\n",
       "      <td>0.903936</td>\n",
       "      <td>0.928329</td>\n",
       "      <td>0.007017</td>\n",
       "      <td>0.003215</td>\n",
       "      <td>0.861794</td>\n",
       "      <td>0.994199</td>\n",
       "      <td>SEKER</td>\n",
       "    </tr>\n",
       "    <tr>\n",
       "      <th>4</th>\n",
       "      <td>30140</td>\n",
       "      <td>620.134</td>\n",
       "      <td>201.847882</td>\n",
       "      <td>190.279279</td>\n",
       "      <td>1.060798</td>\n",
       "      <td>0.333680</td>\n",
       "      <td>30417</td>\n",
       "      <td>195.896503</td>\n",
       "      <td>0.773098</td>\n",
       "      <td>0.990893</td>\n",
       "      <td>0.984877</td>\n",
       "      <td>0.970516</td>\n",
       "      <td>0.006697</td>\n",
       "      <td>0.003665</td>\n",
       "      <td>0.941900</td>\n",
       "      <td>0.999166</td>\n",
       "      <td>SEKER</td>\n",
       "    </tr>\n",
       "  </tbody>\n",
       "</table>\n",
       "</div>"
      ],
      "text/plain": [
       "    Area  Perimeter  MajorAxisLength  MinorAxisLength  AspectRation  \\\n",
       "0  28395    610.291       208.178117       173.888747      1.197191   \n",
       "1  28734    638.018       200.524796       182.734419      1.097356   \n",
       "2  29380    624.110       212.826130       175.931143      1.209713   \n",
       "3  30008    645.884       210.557999       182.516516      1.153638   \n",
       "4  30140    620.134       201.847882       190.279279      1.060798   \n",
       "\n",
       "   Eccentricity  ConvexArea  EquivDiameter    Extent  Solidity  roundness  \\\n",
       "0      0.549812       28715     190.141097  0.763923  0.988856   0.958027   \n",
       "1      0.411785       29172     191.272750  0.783968  0.984986   0.887034   \n",
       "2      0.562727       29690     193.410904  0.778113  0.989559   0.947849   \n",
       "3      0.498616       30724     195.467062  0.782681  0.976696   0.903936   \n",
       "4      0.333680       30417     195.896503  0.773098  0.990893   0.984877   \n",
       "\n",
       "   Compactness  ShapeFactor1  ShapeFactor2  ShapeFactor3  ShapeFactor4  Class  \n",
       "0     0.913358      0.007332      0.003147      0.834222      0.998724  SEKER  \n",
       "1     0.953861      0.006979      0.003564      0.909851      0.998430  SEKER  \n",
       "2     0.908774      0.007244      0.003048      0.825871      0.999066  SEKER  \n",
       "3     0.928329      0.007017      0.003215      0.861794      0.994199  SEKER  \n",
       "4     0.970516      0.006697      0.003665      0.941900      0.999166  SEKER  "
      ]
     },
     "execution_count": 51,
     "metadata": {},
     "output_type": "execute_result"
    }
   ],
   "source": [
    "# write your code here\n",
    "drybeans = pd.read_excel('./input/DryBeanDataset/Dry_Bean_Dataset.xlsx', header=0)\n",
    "drybeans.head()"
   ]
  },
  {
   "cell_type": "code",
   "execution_count": 52,
   "metadata": {},
   "outputs": [
    {
     "data": {
      "text/plain": [
       "7"
      ]
     },
     "execution_count": 52,
     "metadata": {},
     "output_type": "execute_result"
    }
   ],
   "source": [
    "# show unique classes\n",
    "drybeans['Class'].nunique()"
   ]
  },
  {
   "cell_type": "code",
   "execution_count": 53,
   "metadata": {},
   "outputs": [
    {
     "data": {
      "text/plain": [
       "array(['SEKER', 'BARBUNYA', 'BOMBAY', 'CALI', 'HOROZ', 'SIRA', 'DERMASON'],\n",
       "      dtype=object)"
      ]
     },
     "execution_count": 53,
     "metadata": {},
     "output_type": "execute_result"
    }
   ],
   "source": [
    "# extract bean classes\n",
    "beanclass = drybeans['Class'].unique()\n",
    "beanclass"
   ]
  },
  {
   "cell_type": "code",
   "execution_count": 54,
   "metadata": {},
   "outputs": [
    {
     "name": "stdout",
     "output_type": "stream",
     "text": [
      "{'SEKER': 0, 'BARBUNYA': 1, 'BOMBAY': 2, 'CALI': 3, 'HOROZ': 4, 'SIRA': 5, 'DERMASON': 6}\n"
     ]
    }
   ],
   "source": [
    "dict = {}\n",
    "for index,bean in enumerate(beanclass):\n",
    "    dict[bean] = index\n",
    "print(dict)"
   ]
  },
  {
   "cell_type": "code",
   "execution_count": 55,
   "metadata": {},
   "outputs": [
    {
     "data": {
      "text/html": [
       "<div>\n",
       "<style scoped>\n",
       "    .dataframe tbody tr th:only-of-type {\n",
       "        vertical-align: middle;\n",
       "    }\n",
       "\n",
       "    .dataframe tbody tr th {\n",
       "        vertical-align: top;\n",
       "    }\n",
       "\n",
       "    .dataframe thead th {\n",
       "        text-align: right;\n",
       "    }\n",
       "</style>\n",
       "<table border=\"1\" class=\"dataframe\">\n",
       "  <thead>\n",
       "    <tr style=\"text-align: right;\">\n",
       "      <th></th>\n",
       "      <th>Area</th>\n",
       "      <th>Perimeter</th>\n",
       "      <th>MajorAxisLength</th>\n",
       "      <th>MinorAxisLength</th>\n",
       "      <th>AspectRation</th>\n",
       "      <th>Eccentricity</th>\n",
       "      <th>ConvexArea</th>\n",
       "      <th>EquivDiameter</th>\n",
       "      <th>Extent</th>\n",
       "      <th>Solidity</th>\n",
       "      <th>roundness</th>\n",
       "      <th>Compactness</th>\n",
       "      <th>ShapeFactor1</th>\n",
       "      <th>ShapeFactor2</th>\n",
       "      <th>ShapeFactor3</th>\n",
       "      <th>ShapeFactor4</th>\n",
       "      <th>Class</th>\n",
       "    </tr>\n",
       "  </thead>\n",
       "  <tbody>\n",
       "    <tr>\n",
       "      <th>0</th>\n",
       "      <td>28395</td>\n",
       "      <td>610.291</td>\n",
       "      <td>208.178117</td>\n",
       "      <td>173.888747</td>\n",
       "      <td>1.197191</td>\n",
       "      <td>0.549812</td>\n",
       "      <td>28715</td>\n",
       "      <td>190.141097</td>\n",
       "      <td>0.763923</td>\n",
       "      <td>0.988856</td>\n",
       "      <td>0.958027</td>\n",
       "      <td>0.913358</td>\n",
       "      <td>0.007332</td>\n",
       "      <td>0.003147</td>\n",
       "      <td>0.834222</td>\n",
       "      <td>0.998724</td>\n",
       "      <td>0</td>\n",
       "    </tr>\n",
       "    <tr>\n",
       "      <th>1</th>\n",
       "      <td>28734</td>\n",
       "      <td>638.018</td>\n",
       "      <td>200.524796</td>\n",
       "      <td>182.734419</td>\n",
       "      <td>1.097356</td>\n",
       "      <td>0.411785</td>\n",
       "      <td>29172</td>\n",
       "      <td>191.272750</td>\n",
       "      <td>0.783968</td>\n",
       "      <td>0.984986</td>\n",
       "      <td>0.887034</td>\n",
       "      <td>0.953861</td>\n",
       "      <td>0.006979</td>\n",
       "      <td>0.003564</td>\n",
       "      <td>0.909851</td>\n",
       "      <td>0.998430</td>\n",
       "      <td>0</td>\n",
       "    </tr>\n",
       "    <tr>\n",
       "      <th>2</th>\n",
       "      <td>29380</td>\n",
       "      <td>624.110</td>\n",
       "      <td>212.826130</td>\n",
       "      <td>175.931143</td>\n",
       "      <td>1.209713</td>\n",
       "      <td>0.562727</td>\n",
       "      <td>29690</td>\n",
       "      <td>193.410904</td>\n",
       "      <td>0.778113</td>\n",
       "      <td>0.989559</td>\n",
       "      <td>0.947849</td>\n",
       "      <td>0.908774</td>\n",
       "      <td>0.007244</td>\n",
       "      <td>0.003048</td>\n",
       "      <td>0.825871</td>\n",
       "      <td>0.999066</td>\n",
       "      <td>0</td>\n",
       "    </tr>\n",
       "    <tr>\n",
       "      <th>3</th>\n",
       "      <td>30008</td>\n",
       "      <td>645.884</td>\n",
       "      <td>210.557999</td>\n",
       "      <td>182.516516</td>\n",
       "      <td>1.153638</td>\n",
       "      <td>0.498616</td>\n",
       "      <td>30724</td>\n",
       "      <td>195.467062</td>\n",
       "      <td>0.782681</td>\n",
       "      <td>0.976696</td>\n",
       "      <td>0.903936</td>\n",
       "      <td>0.928329</td>\n",
       "      <td>0.007017</td>\n",
       "      <td>0.003215</td>\n",
       "      <td>0.861794</td>\n",
       "      <td>0.994199</td>\n",
       "      <td>0</td>\n",
       "    </tr>\n",
       "    <tr>\n",
       "      <th>4</th>\n",
       "      <td>30140</td>\n",
       "      <td>620.134</td>\n",
       "      <td>201.847882</td>\n",
       "      <td>190.279279</td>\n",
       "      <td>1.060798</td>\n",
       "      <td>0.333680</td>\n",
       "      <td>30417</td>\n",
       "      <td>195.896503</td>\n",
       "      <td>0.773098</td>\n",
       "      <td>0.990893</td>\n",
       "      <td>0.984877</td>\n",
       "      <td>0.970516</td>\n",
       "      <td>0.006697</td>\n",
       "      <td>0.003665</td>\n",
       "      <td>0.941900</td>\n",
       "      <td>0.999166</td>\n",
       "      <td>0</td>\n",
       "    </tr>\n",
       "  </tbody>\n",
       "</table>\n",
       "</div>"
      ],
      "text/plain": [
       "    Area  Perimeter  MajorAxisLength  MinorAxisLength  AspectRation  \\\n",
       "0  28395    610.291       208.178117       173.888747      1.197191   \n",
       "1  28734    638.018       200.524796       182.734419      1.097356   \n",
       "2  29380    624.110       212.826130       175.931143      1.209713   \n",
       "3  30008    645.884       210.557999       182.516516      1.153638   \n",
       "4  30140    620.134       201.847882       190.279279      1.060798   \n",
       "\n",
       "   Eccentricity  ConvexArea  EquivDiameter    Extent  Solidity  roundness  \\\n",
       "0      0.549812       28715     190.141097  0.763923  0.988856   0.958027   \n",
       "1      0.411785       29172     191.272750  0.783968  0.984986   0.887034   \n",
       "2      0.562727       29690     193.410904  0.778113  0.989559   0.947849   \n",
       "3      0.498616       30724     195.467062  0.782681  0.976696   0.903936   \n",
       "4      0.333680       30417     195.896503  0.773098  0.990893   0.984877   \n",
       "\n",
       "   Compactness  ShapeFactor1  ShapeFactor2  ShapeFactor3  ShapeFactor4  Class  \n",
       "0     0.913358      0.007332      0.003147      0.834222      0.998724      0  \n",
       "1     0.953861      0.006979      0.003564      0.909851      0.998430      0  \n",
       "2     0.908774      0.007244      0.003048      0.825871      0.999066      0  \n",
       "3     0.928329      0.007017      0.003215      0.861794      0.994199      0  \n",
       "4     0.970516      0.006697      0.003665      0.941900      0.999166      0  "
      ]
     },
     "execution_count": 55,
     "metadata": {},
     "output_type": "execute_result"
    }
   ],
   "source": [
    "# encode class with number\n",
    "drybeans2 = drybeans.replace({'Class':dict})\n",
    "drybeans2.head()"
   ]
  },
  {
   "cell_type": "code",
   "execution_count": 56,
   "metadata": {},
   "outputs": [
    {
     "data": {
      "text/plain": [
       "Index(['Area', 'Perimeter', 'MajorAxisLength', 'MinorAxisLength',\n",
       "       'AspectRation', 'Eccentricity', 'ConvexArea', 'EquivDiameter', 'Extent',\n",
       "       'Solidity', 'roundness', 'Compactness', 'ShapeFactor1', 'ShapeFactor2',\n",
       "       'ShapeFactor3', 'ShapeFactor4', 'Class'],\n",
       "      dtype='object')"
      ]
     },
     "execution_count": 56,
     "metadata": {},
     "output_type": "execute_result"
    }
   ],
   "source": [
    "drybeans2.columns"
   ]
  },
  {
   "cell_type": "markdown",
   "id": "ad87f470",
   "metadata": {},
   "source": []
  },
  {
   "cell_type": "code",
   "execution_count": 57,
   "id": "80242122",
   "metadata": {},
   "outputs": [],
   "source": [
    "features = ['Area', 'Perimeter', 'MajorAxisLength', 'MinorAxisLength',\n",
    "       'AspectRation', 'Eccentricity', 'ConvexArea', 'EquivDiameter', 'Extent',\n",
    "       'Solidity', 'roundness', 'Compactness', 'ShapeFactor1', 'ShapeFactor2',\n",
    "       'ShapeFactor3', 'ShapeFactor4']"
   ]
  },
  {
   "cell_type": "code",
   "execution_count": 58,
   "id": "67c0f8c7",
   "metadata": {},
   "outputs": [
    {
     "data": {
      "text/plain": [
       "(13611, 16)"
      ]
     },
     "execution_count": 58,
     "metadata": {},
     "output_type": "execute_result"
    }
   ],
   "source": [
    "X = drybeans2[features]\n",
    "y = drybeans2['Class']\n",
    "\n",
    "X.shape"
   ]
  },
  {
   "cell_type": "code",
   "execution_count": 59,
   "id": "1f8bf455",
   "metadata": {},
   "outputs": [],
   "source": [
    "X2 = preproc.PolynomialFeatures(include_bias=False).fit_transform(X)\n",
    "X1_train, X1_test, X2_train, X2_test, y_train, y_test = train_test_split(X, X2, y, test_size=0.3, random_state=123)"
   ]
  },
  {
   "cell_type": "code",
   "execution_count": 60,
   "metadata": {},
   "outputs": [],
   "source": [
    "def evaluate_feature(X_train, X_test, y_train, y_test):\n",
    "    \"\"\"Fit a linear regression model on the training set and score on the test set\"\"\"\n",
    "    model = linear_model.LinearRegression().fit(X_train, y_train)\n",
    "    r_score = model.score(X_test, y_test)\n",
    "    return (model, r_score)"
   ]
  },
  {
   "cell_type": "code",
   "execution_count": 61,
   "metadata": {},
   "outputs": [
    {
     "name": "stdout",
     "output_type": "stream",
     "text": [
      "R-squared score with singleton features: 0.78178\n",
      "R-squared score with pairwise features: 0.7816889452\n"
     ]
    }
   ],
   "source": [
    "(m1, r1) = evaluate_feature(X1_train, X1_test, y_train, y_test)\n",
    "print(\"R-squared score with singleton features: %0.5f\" % r1)\n",
    "\n",
    "(m2, r2) = evaluate_feature(X2_train, X2_test, y_train, y_test)\n",
    "print(\"R-squared score with pairwise features: %0.10f\" % r2)"
   ]
  },
  {
   "cell_type": "code",
   "execution_count": null,
   "metadata": {},
   "outputs": [],
   "source": []
  }
 ],
 "metadata": {
  "kernelspec": {
   "display_name": "Python 3",
   "language": "python",
   "name": "python3"
  },
  "language_info": {
   "codemirror_mode": {
    "name": "ipython",
    "version": 3
   },
   "file_extension": ".py",
   "mimetype": "text/x-python",
   "name": "python",
   "nbconvert_exporter": "python",
   "pygments_lexer": "ipython3",
   "version": "3.8.5"
  }
 },
 "nbformat": 4,
 "nbformat_minor": 5
}
